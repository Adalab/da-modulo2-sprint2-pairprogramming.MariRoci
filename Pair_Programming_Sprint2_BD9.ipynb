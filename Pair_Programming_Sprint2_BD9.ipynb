{
 "cells": [
  {
   "cell_type": "markdown",
   "metadata": {},
   "source": [
    "Pair_Programming_BD9_SQL_Python"
   ]
  },
  {
   "cell_type": "code",
   "execution_count": 2,
   "metadata": {},
   "outputs": [
    {
     "name": "stdout",
     "output_type": "stream",
     "text": [
      "Collecting mysql.connector\n",
      "  Downloading mysql-connector-2.2.9.tar.gz (11.9 MB)\n",
      "\u001b[K     |████████████████████████████████| 11.9 MB 2.6 MB/s eta 0:00:01\n",
      "\u001b[?25hBuilding wheels for collected packages: mysql.connector\n",
      "  Building wheel for mysql.connector (setup.py) ... \u001b[?25ldone\n",
      "\u001b[?25h  Created wheel for mysql.connector: filename=mysql_connector-2.2.9-cp39-cp39-linux_x86_64.whl size=247965 sha256=4c2866c60c71e56dee6eb0e8784b16acce57d85cf61d8be358a5fa55039be80f\n",
      "  Stored in directory: /home/mcpperogil/.cache/pip/wheels/7b/14/39/5aad423666e827dfe9a1fbcd111ac17171e7c9865d570780ce\n",
      "Successfully built mysql.connector\n",
      "Installing collected packages: mysql.connector\n",
      "Successfully installed mysql.connector-2.2.9\n",
      "Note: you may need to restart the kernel to use updated packages.\n"
     ]
    }
   ],
   "source": [
    "pip install mysql.connector"
   ]
  },
  {
   "cell_type": "code",
   "execution_count": 1,
   "metadata": {},
   "outputs": [],
   "source": [
    "import mysql.connector\n",
    "from mysql.connector import errorcode\n",
    "\n",
    "import pandas as pd\n",
    "import numpy as np"
   ]
  },
  {
   "cell_type": "code",
   "execution_count": 4,
   "metadata": {},
   "outputs": [
    {
     "name": "stdout",
     "output_type": "stream",
     "text": [
      "2003: Can't connect to MySQL server on 'localhost:3306' (111 Connection refused)\n"
     ]
    }
   ],
   "source": [
    "try:\n",
    "     cnx = mysql.connector.connect(user='root', password='AlumnaAdalab',\n",
    "                              \t\t\thost='localhost',\n",
    "                              \t\t\tdatabase='northwind')\n",
    "except mysql.connector.Error as err:   #en caso de error\n",
    "\n",
    "     if err.errno == errorcode.ER_ACCESS_DENIED_ERROR:     #error con contraseña\n",
    "          print(\"Something is wrong with your user name or password\")\n",
    "  \n",
    "     elif err.errno == errorcode.ER_BAD_DB_ERROR:  #si la bbdd no existe\n",
    "         print(\"Database does not exist\")\n",
    "  \n",
    "     else:     #si no es ninguno de los anteriores, imprime qué error es\n",
    "         print(err)"
   ]
  },
  {
   "cell_type": "code",
   "execution_count": null,
   "metadata": {},
   "outputs": [],
   "source": [
    "cnx = mysql.connector.connect(user='root', password='AlumnaAdalab',\n",
    "                                host='localhost',\n",
    "                                database='northwind')\n",
    "\n",
    "mycursor = cnx.cursor() \n",
    "\n",
    "mycursor.execute('SHOW COLUMNS FROM customers')\n",
    "result = mycursor.fetchall()\n",
    "result"
   ]
  },
  {
   "cell_type": "code",
   "execution_count": null,
   "metadata": {},
   "outputs": [],
   "source": [
    "cnx = mysql.connector.connect(user='root', password='AlumnaAdalab',\n",
    "                                host='localhost',\n",
    "                                database='northwind')\n",
    "\n",
    "mycursor = cnx.cursor() \n",
    "\n",
    "usa_germany = (\"\"\"SELECT * FROM customers WHERE country = 'USA' OR 'Germany' \"\"\")\n",
    "\n",
    "resultado= mycursor.execute(usa_germany) \n",
    "resultado = mycursor.fetchall()  \n",
    "resultado"
   ]
  },
  {
   "cell_type": "code",
   "execution_count": null,
   "metadata": {},
   "outputs": [],
   "source": [
    "clientes = pd.DataFrame(resultado, columns = ['customer_id', 'company_name', 'contact_name','contact_title','address','city','region','postal_code','country','phone','fax'])\n",
    "clientes"
   ]
  },
  {
   "cell_type": "code",
   "execution_count": null,
   "metadata": {},
   "outputs": [],
   "source": [
    "clientes.head(10)"
   ]
  },
  {
   "cell_type": "code",
   "execution_count": null,
   "metadata": {},
   "outputs": [],
   "source": [
    "clientes.tail(10)"
   ]
  },
  {
   "cell_type": "code",
   "execution_count": null,
   "metadata": {},
   "outputs": [],
   "source": [
    "clientes.sample(5)"
   ]
  },
  {
   "cell_type": "code",
   "execution_count": null,
   "metadata": {},
   "outputs": [],
   "source": [
    "clientes.isnull()\n"
   ]
  },
  {
   "cell_type": "code",
   "execution_count": null,
   "metadata": {},
   "outputs": [],
   "source": [
    "clientes.describe()"
   ]
  },
  {
   "cell_type": "code",
   "execution_count": null,
   "metadata": {},
   "outputs": [],
   "source": [
    "clientes.columns"
   ]
  }
 ],
 "metadata": {
  "kernelspec": {
   "display_name": "base",
   "language": "python",
   "name": "python3"
  },
  "language_info": {
   "codemirror_mode": {
    "name": "ipython",
    "version": 3
   },
   "file_extension": ".py",
   "mimetype": "text/x-python",
   "name": "python",
   "nbconvert_exporter": "python",
   "pygments_lexer": "ipython3",
   "version": "3.9.7"
  }
 },
 "nbformat": 4,
 "nbformat_minor": 2
}
